{
 "cells": [
  {
   "cell_type": "markdown",
   "metadata": {},
   "source": [
    "#### Bi 410/510 (Fall 2019)"
   ]
  },
  {
   "cell_type": "markdown",
   "metadata": {},
   "source": [
    "Before you turn this problem in, make sure everything runs as expected. First, **restart the kernel** (in the menubar, select Kernel$\\rightarrow$Restart) and then **run all cells** (in the menubar, select Cell$\\rightarrow$Run All).\n",
    "\n",
    "Make sure you fill in any place that says `YOUR CODE HERE` or \"YOUR ANSWER HERE\".\n",
    "\n",
    "When you are finished submit this notebook through Canvas."
   ]
  },
  {
   "cell_type": "markdown",
   "metadata": {},
   "source": [
    "# <span style=\"color:steelblue;\">Milestone 4a</span>"
   ]
  },
  {
   "cell_type": "markdown",
   "metadata": {},
   "source": [
    "### <span style=\"color:steelblue;\">GC Content</span>"
   ]
  },
  {
   "cell_type": "markdown",
   "metadata": {},
   "source": [
    "Implement a function named `gc_content` that computes the GC content of a DNA sequence (the percentage of bases that are either Gs or Cs), rounded to two significant digits. \n",
    "\n",
    "**Do not use the `count` method.** Instead, write a single for loop that checks each letter in the input string and updates a counter if a letter is a G or a C. \n",
    "\n",
    "Example:\n",
    "```\n",
    ">>> gc('GATTACA')\n",
    "28.57\n",
    "```"
   ]
  },
  {
   "cell_type": "code",
   "execution_count": 1,
   "metadata": {
    "deletable": false,
    "nbgrader": {
     "cell_type": "code",
     "checksum": "0112a625ed8ba6e4d2e654a4259905eb",
     "grade": true,
     "grade_id": "gc_4a",
     "locked": false,
     "points": 3,
     "schema_version": 3,
     "solution": true,
     "task": false
    }
   },
   "outputs": [],
   "source": [
    "def gc(seq):\n",
    "    count=0\n",
    "    for i in range(len(seq)):\n",
    "        if (seq[i]==\"G\" or seq[i]==\"C\"):\n",
    "            count+=1 \n",
    "    percentage=round((count/len(seq))*100,2)\n",
    "    return percentage"
   ]
  },
  {
   "cell_type": "markdown",
   "metadata": {},
   "source": [
    "##### Tests "
   ]
  },
  {
   "cell_type": "markdown",
   "metadata": {},
   "source": [
    "Use this code cell to test your function as you write it."
   ]
  },
  {
   "cell_type": "code",
   "execution_count": 2,
   "metadata": {},
   "outputs": [
    {
     "data": {
      "text/plain": [
       "28.57"
      ]
     },
     "execution_count": 2,
     "metadata": {},
     "output_type": "execute_result"
    }
   ],
   "source": [
    "gc(\"GATTACA\")"
   ]
  },
  {
   "cell_type": "markdown",
   "metadata": {},
   "source": [
    "We'll use these code cells to check your code."
   ]
  },
  {
   "cell_type": "code",
   "execution_count": 3,
   "metadata": {
    "deletable": false,
    "editable": false,
    "nbgrader": {
     "cell_type": "code",
     "checksum": "76bee44241377fdfda6dc6b463ed4cf1",
     "grade": true,
     "grade_id": "cell-425fdb370cea0bad",
     "locked": true,
     "points": 1,
     "schema_version": 3,
     "solution": false,
     "task": false
    }
   },
   "outputs": [],
   "source": [
    "assert gc('GATTACA') == 28.57"
   ]
  },
  {
   "cell_type": "code",
   "execution_count": 4,
   "metadata": {
    "deletable": false,
    "editable": false,
    "nbgrader": {
     "cell_type": "code",
     "checksum": "7c8be95ecd8c45fef258be514573f884",
     "grade": true,
     "grade_id": "cell-4bd98d4a857264c3",
     "locked": true,
     "points": 1,
     "schema_version": 3,
     "solution": false,
     "task": false
    }
   },
   "outputs": [],
   "source": [
    "assert gc('AAACCCGGGTTT') == 50.0"
   ]
  },
  {
   "cell_type": "code",
   "execution_count": 5,
   "metadata": {
    "deletable": false,
    "editable": false,
    "nbgrader": {
     "cell_type": "code",
     "checksum": "0dbcd8bdf1b75134730e88a8cc1a0a49",
     "grade": true,
     "grade_id": "cell-7529958e880100b4",
     "locked": true,
     "points": 1,
     "schema_version": 3,
     "solution": false,
     "task": false
    }
   },
   "outputs": [],
   "source": [
    "assert gc('AAATTT') == 0.0"
   ]
  },
  {
   "cell_type": "markdown",
   "metadata": {},
   "source": [
    "### <span style=\"color:steelblue;\">Acronym</span>"
   ]
  },
  {
   "cell_type": "markdown",
   "metadata": {},
   "source": [
    "Implement a function named `acronym` that will create an acronym from a list of words.  The result should be a single string that has the first character of each word from the list.\n",
    "\n",
    "Example:\n",
    "```\n",
    ">>> acronym([\"North\", \"Atlantic\", \"Treaty\", \"Organization\"])\n",
    "'NATO'\n",
    "```"
   ]
  },
  {
   "cell_type": "code",
   "execution_count": 6,
   "metadata": {
    "deletable": false,
    "nbgrader": {
     "cell_type": "code",
     "checksum": "e7dc8983d00de9e880c9009bfd6a96dd",
     "grade": true,
     "grade_id": "acronym",
     "locked": false,
     "points": 3,
     "schema_version": 3,
     "solution": true,
     "task": false
    }
   },
   "outputs": [],
   "source": [
    "def acronym(lst):\n",
    "    # YOUR CODE HERE\n",
    "    acronym=''\n",
    "    for i in range(len(lst)):\n",
    "        word=lst[i]\n",
    "        acronym+=word[0]\n",
    "    return acronym"
   ]
  },
  {
   "cell_type": "markdown",
   "metadata": {},
   "source": [
    "##### Tests "
   ]
  },
  {
   "cell_type": "markdown",
   "metadata": {},
   "source": [
    "Use this code cell to test your function as you write it."
   ]
  },
  {
   "cell_type": "code",
   "execution_count": 7,
   "metadata": {},
   "outputs": [
    {
     "data": {
      "text/plain": [
       "'NATO'"
      ]
     },
     "execution_count": 7,
     "metadata": {},
     "output_type": "execute_result"
    }
   ],
   "source": [
    "acronym([\"North\", \"Atlantic\", \"Treaty\", \"Organization\"])"
   ]
  },
  {
   "cell_type": "markdown",
   "metadata": {},
   "source": [
    "We'll use these code cells to check your code."
   ]
  },
  {
   "cell_type": "code",
   "execution_count": 8,
   "metadata": {
    "deletable": false,
    "editable": false,
    "nbgrader": {
     "cell_type": "code",
     "checksum": "500447f0aa781489723aa71fc84d7583",
     "grade": true,
     "grade_id": "cell-996686965e92ca7e",
     "locked": true,
     "points": 1,
     "schema_version": 3,
     "solution": false,
     "task": false
    }
   },
   "outputs": [],
   "source": [
    "assert acronym([\"North\", \"Atlantic\", \"Treaty\", \"Organization\"]) == 'NATO'"
   ]
  },
  {
   "cell_type": "code",
   "execution_count": 9,
   "metadata": {
    "deletable": false,
    "editable": false,
    "nbgrader": {
     "cell_type": "code",
     "checksum": "f8656bbdae5388cc916190c9aa3c615c",
     "grade": true,
     "grade_id": "cell-cdb3e7cce1cffac3",
     "locked": true,
     "points": 1,
     "schema_version": 3,
     "solution": false,
     "task": false
    }
   },
   "outputs": [],
   "source": [
    "assert acronym([\"Martin\", \"Luther\", \"King\"]) == 'MLK'"
   ]
  },
  {
   "cell_type": "markdown",
   "metadata": {},
   "source": [
    "### <span style=\"color:steelblue;\">Birthday Paradox</span>"
   ]
  },
  {
   "cell_type": "markdown",
   "metadata": {},
   "source": [
    "A fun ice-breaker for a new group of people is to have everyone compare birthdays to see if any two people were born on the same day of the year. It may not seem intuitive, but with only 23 people in a group there is a 50\\% chance that two of them will have the same birthday. With a group of 100 the probability that two people will have the same birthday is more than 99.999\\%.\n",
    "\n",
    "To simulate this phenomenon in Python write a function named `paradox`. Create an empty list, and then use a loop that adds numbers to the list. On each iteration:\n",
    "* choose a random number between 1 and 365 (use the `randint` function from the `random` library)\n",
    "* if the number is already in the list exit the loop\n",
    "* otherwise add the number to the list and continue.\n",
    "\n",
    "The function should return the number of times the loop iterates before finding a duplicate. If it will help, you can print the contents of your list and the random number you draw on each loop iteration. Here is a sample output with this more verbose output:\n",
    "```\n",
    ">>> paradox()\n",
    "look for 343 in []\n",
    "look for 130 in [343]\n",
    "look for 271 in [343, 130]\n",
    "look for 192 in [343, 130, 271]\n",
    "look for 97 in [343, 130, 271, 192]\n",
    "look for 322 in [343, 130, 271, 192, 97]\n",
    "look for 271 in [343, 130, 271, 192, 97, 322]\n",
    "6\n",
    "```"
   ]
  },
  {
   "cell_type": "code",
   "execution_count": 10,
   "metadata": {
    "deletable": false,
    "nbgrader": {
     "cell_type": "code",
     "checksum": "0683ea14e8c472655b593b15c2918cab",
     "grade": true,
     "grade_id": "paradox",
     "locked": false,
     "points": 3,
     "schema_version": 3,
     "solution": true,
     "task": false
    }
   },
   "outputs": [],
   "source": [
    "from random import randint\n",
    "\n",
    "def paradox():\n",
    "    # YOUR CODE HERE\n",
    "    birthdays=[]\n",
    "    num=randint(1,365)\n",
    "    print(\"look for \", num,\"in \",birthdays)\n",
    "    birthdays=[num]\n",
    "    for i in range(365):\n",
    "        num=randint(1,365)\n",
    "        print(\"look for \", num,\"in \",birthdays)\n",
    "        if not num in birthdays:\n",
    "            birthdays.append(num)\n",
    "        else:\n",
    "            return(i+1)"
   ]
  },
  {
   "cell_type": "markdown",
   "metadata": {},
   "source": [
    "##### Tests "
   ]
  },
  {
   "cell_type": "markdown",
   "metadata": {},
   "source": [
    "Use this code cell to test your function as you write it."
   ]
  },
  {
   "cell_type": "code",
   "execution_count": 13,
   "metadata": {},
   "outputs": [
    {
     "name": "stdout",
     "output_type": "stream",
     "text": [
      "look for  347 in  []\n",
      "look for  251 in  [347]\n",
      "look for  18 in  [347, 251]\n",
      "look for  331 in  [347, 251, 18]\n",
      "look for  41 in  [347, 251, 18, 331]\n",
      "look for  31 in  [347, 251, 18, 331, 41]\n",
      "look for  315 in  [347, 251, 18, 331, 41, 31]\n",
      "look for  110 in  [347, 251, 18, 331, 41, 31, 315]\n",
      "look for  221 in  [347, 251, 18, 331, 41, 31, 315, 110]\n",
      "look for  199 in  [347, 251, 18, 331, 41, 31, 315, 110, 221]\n",
      "look for  96 in  [347, 251, 18, 331, 41, 31, 315, 110, 221, 199]\n",
      "look for  129 in  [347, 251, 18, 331, 41, 31, 315, 110, 221, 199, 96]\n",
      "look for  41 in  [347, 251, 18, 331, 41, 31, 315, 110, 221, 199, 96, 129]\n"
     ]
    },
    {
     "data": {
      "text/plain": [
       "12"
      ]
     },
     "execution_count": 13,
     "metadata": {},
     "output_type": "execute_result"
    }
   ],
   "source": [
    "paradox()"
   ]
  },
  {
   "cell_type": "markdown",
   "metadata": {},
   "source": [
    "We'll use these code cells to check your code.  Each time you call your function you should get back a number between 1 and 365."
   ]
  },
  {
   "cell_type": "markdown",
   "metadata": {},
   "source": []
  },
  {
   "cell_type": "code",
   "execution_count": 12,
   "metadata": {
    "deletable": false,
    "editable": false,
    "nbgrader": {
     "cell_type": "code",
     "checksum": "5d2fae3d27b61677a8f5e77a3ee5935e",
     "grade": true,
     "grade_id": "cell-3a430d9c6a27297d",
     "locked": true,
     "points": 2,
     "schema_version": 3,
     "solution": false,
     "task": false
    }
   },
   "outputs": [
    {
     "name": "stdout",
     "output_type": "stream",
     "text": [
      "look for  339 in  []\n",
      "look for  122 in  [339]\n",
      "look for  8 in  [339, 122]\n",
      "look for  75 in  [339, 122, 8]\n",
      "look for  314 in  [339, 122, 8, 75]\n",
      "look for  22 in  [339, 122, 8, 75, 314]\n",
      "look for  352 in  [339, 122, 8, 75, 314, 22]\n",
      "look for  162 in  [339, 122, 8, 75, 314, 22, 352]\n",
      "look for  252 in  [339, 122, 8, 75, 314, 22, 352, 162]\n",
      "look for  134 in  [339, 122, 8, 75, 314, 22, 352, 162, 252]\n",
      "look for  347 in  [339, 122, 8, 75, 314, 22, 352, 162, 252, 134]\n",
      "look for  238 in  [339, 122, 8, 75, 314, 22, 352, 162, 252, 134, 347]\n",
      "look for  144 in  [339, 122, 8, 75, 314, 22, 352, 162, 252, 134, 347, 238]\n",
      "look for  171 in  [339, 122, 8, 75, 314, 22, 352, 162, 252, 134, 347, 238, 144]\n",
      "look for  358 in  [339, 122, 8, 75, 314, 22, 352, 162, 252, 134, 347, 238, 144, 171]\n",
      "look for  129 in  [339, 122, 8, 75, 314, 22, 352, 162, 252, 134, 347, 238, 144, 171, 358]\n",
      "look for  262 in  [339, 122, 8, 75, 314, 22, 352, 162, 252, 134, 347, 238, 144, 171, 358, 129]\n",
      "look for  347 in  [339, 122, 8, 75, 314, 22, 352, 162, 252, 134, 347, 238, 144, 171, 358, 129, 262]\n",
      "look for  23 in  []\n",
      "look for  167 in  [23]\n",
      "look for  98 in  [23, 167]\n",
      "look for  154 in  [23, 167, 98]\n",
      "look for  23 in  [23, 167, 98, 154]\n",
      "look for  1 in  []\n",
      "look for  221 in  [1]\n",
      "look for  343 in  [1, 221]\n",
      "look for  260 in  [1, 221, 343]\n",
      "look for  40 in  [1, 221, 343, 260]\n",
      "look for  30 in  [1, 221, 343, 260, 40]\n",
      "look for  123 in  [1, 221, 343, 260, 40, 30]\n",
      "look for  325 in  [1, 221, 343, 260, 40, 30, 123]\n",
      "look for  245 in  [1, 221, 343, 260, 40, 30, 123, 325]\n",
      "look for  334 in  [1, 221, 343, 260, 40, 30, 123, 325, 245]\n",
      "look for  172 in  [1, 221, 343, 260, 40, 30, 123, 325, 245, 334]\n",
      "look for  342 in  [1, 221, 343, 260, 40, 30, 123, 325, 245, 334, 172]\n",
      "look for  332 in  [1, 221, 343, 260, 40, 30, 123, 325, 245, 334, 172, 342]\n",
      "look for  299 in  [1, 221, 343, 260, 40, 30, 123, 325, 245, 334, 172, 342, 332]\n",
      "look for  82 in  [1, 221, 343, 260, 40, 30, 123, 325, 245, 334, 172, 342, 332, 299]\n",
      "look for  212 in  [1, 221, 343, 260, 40, 30, 123, 325, 245, 334, 172, 342, 332, 299, 82]\n",
      "look for  198 in  [1, 221, 343, 260, 40, 30, 123, 325, 245, 334, 172, 342, 332, 299, 82, 212]\n",
      "look for  81 in  [1, 221, 343, 260, 40, 30, 123, 325, 245, 334, 172, 342, 332, 299, 82, 212, 198]\n",
      "look for  151 in  [1, 221, 343, 260, 40, 30, 123, 325, 245, 334, 172, 342, 332, 299, 82, 212, 198, 81]\n",
      "look for  43 in  [1, 221, 343, 260, 40, 30, 123, 325, 245, 334, 172, 342, 332, 299, 82, 212, 198, 81, 151]\n",
      "look for  257 in  [1, 221, 343, 260, 40, 30, 123, 325, 245, 334, 172, 342, 332, 299, 82, 212, 198, 81, 151, 43]\n",
      "look for  325 in  [1, 221, 343, 260, 40, 30, 123, 325, 245, 334, 172, 342, 332, 299, 82, 212, 198, 81, 151, 43, 257]\n",
      "look for  166 in  []\n",
      "look for  17 in  [166]\n",
      "look for  19 in  [166, 17]\n",
      "look for  207 in  [166, 17, 19]\n",
      "look for  102 in  [166, 17, 19, 207]\n",
      "look for  70 in  [166, 17, 19, 207, 102]\n",
      "look for  123 in  [166, 17, 19, 207, 102, 70]\n",
      "look for  68 in  [166, 17, 19, 207, 102, 70, 123]\n",
      "look for  117 in  [166, 17, 19, 207, 102, 70, 123, 68]\n",
      "look for  260 in  [166, 17, 19, 207, 102, 70, 123, 68, 117]\n",
      "look for  176 in  [166, 17, 19, 207, 102, 70, 123, 68, 117, 260]\n",
      "look for  231 in  [166, 17, 19, 207, 102, 70, 123, 68, 117, 260, 176]\n",
      "look for  263 in  [166, 17, 19, 207, 102, 70, 123, 68, 117, 260, 176, 231]\n",
      "look for  87 in  [166, 17, 19, 207, 102, 70, 123, 68, 117, 260, 176, 231, 263]\n",
      "look for  237 in  [166, 17, 19, 207, 102, 70, 123, 68, 117, 260, 176, 231, 263, 87]\n",
      "look for  357 in  [166, 17, 19, 207, 102, 70, 123, 68, 117, 260, 176, 231, 263, 87, 237]\n",
      "look for  362 in  [166, 17, 19, 207, 102, 70, 123, 68, 117, 260, 176, 231, 263, 87, 237, 357]\n",
      "look for  289 in  [166, 17, 19, 207, 102, 70, 123, 68, 117, 260, 176, 231, 263, 87, 237, 357, 362]\n",
      "look for  214 in  [166, 17, 19, 207, 102, 70, 123, 68, 117, 260, 176, 231, 263, 87, 237, 357, 362, 289]\n",
      "look for  335 in  [166, 17, 19, 207, 102, 70, 123, 68, 117, 260, 176, 231, 263, 87, 237, 357, 362, 289, 214]\n",
      "look for  284 in  [166, 17, 19, 207, 102, 70, 123, 68, 117, 260, 176, 231, 263, 87, 237, 357, 362, 289, 214, 335]\n",
      "look for  258 in  [166, 17, 19, 207, 102, 70, 123, 68, 117, 260, 176, 231, 263, 87, 237, 357, 362, 289, 214, 335, 284]\n",
      "look for  297 in  [166, 17, 19, 207, 102, 70, 123, 68, 117, 260, 176, 231, 263, 87, 237, 357, 362, 289, 214, 335, 284, 258]\n",
      "look for  163 in  [166, 17, 19, 207, 102, 70, 123, 68, 117, 260, 176, 231, 263, 87, 237, 357, 362, 289, 214, 335, 284, 258, 297]\n",
      "look for  176 in  [166, 17, 19, 207, 102, 70, 123, 68, 117, 260, 176, 231, 263, 87, 237, 357, 362, 289, 214, 335, 284, 258, 297, 163]\n",
      "look for  255 in  []\n",
      "look for  103 in  [255]\n",
      "look for  163 in  [255, 103]\n",
      "look for  158 in  [255, 103, 163]\n",
      "look for  296 in  [255, 103, 163, 158]\n",
      "look for  35 in  [255, 103, 163, 158, 296]\n",
      "look for  104 in  [255, 103, 163, 158, 296, 35]\n",
      "look for  108 in  [255, 103, 163, 158, 296, 35, 104]\n",
      "look for  15 in  [255, 103, 163, 158, 296, 35, 104, 108]\n",
      "look for  197 in  [255, 103, 163, 158, 296, 35, 104, 108, 15]\n",
      "look for  252 in  [255, 103, 163, 158, 296, 35, 104, 108, 15, 197]\n",
      "look for  227 in  [255, 103, 163, 158, 296, 35, 104, 108, 15, 197, 252]\n",
      "look for  299 in  [255, 103, 163, 158, 296, 35, 104, 108, 15, 197, 252, 227]\n",
      "look for  61 in  [255, 103, 163, 158, 296, 35, 104, 108, 15, 197, 252, 227, 299]\n",
      "look for  88 in  [255, 103, 163, 158, 296, 35, 104, 108, 15, 197, 252, 227, 299, 61]\n",
      "look for  319 in  [255, 103, 163, 158, 296, 35, 104, 108, 15, 197, 252, 227, 299, 61, 88]\n",
      "look for  178 in  [255, 103, 163, 158, 296, 35, 104, 108, 15, 197, 252, 227, 299, 61, 88, 319]\n",
      "look for  154 in  [255, 103, 163, 158, 296, 35, 104, 108, 15, 197, 252, 227, 299, 61, 88, 319, 178]\n",
      "look for  184 in  [255, 103, 163, 158, 296, 35, 104, 108, 15, 197, 252, 227, 299, 61, 88, 319, 178, 154]\n",
      "look for  116 in  [255, 103, 163, 158, 296, 35, 104, 108, 15, 197, 252, 227, 299, 61, 88, 319, 178, 154, 184]\n",
      "look for  146 in  [255, 103, 163, 158, 296, 35, 104, 108, 15, 197, 252, 227, 299, 61, 88, 319, 178, 154, 184, 116]\n",
      "look for  56 in  [255, 103, 163, 158, 296, 35, 104, 108, 15, 197, 252, 227, 299, 61, 88, 319, 178, 154, 184, 116, 146]\n",
      "look for  193 in  [255, 103, 163, 158, 296, 35, 104, 108, 15, 197, 252, 227, 299, 61, 88, 319, 178, 154, 184, 116, 146, 56]\n",
      "look for  141 in  [255, 103, 163, 158, 296, 35, 104, 108, 15, 197, 252, 227, 299, 61, 88, 319, 178, 154, 184, 116, 146, 56, 193]\n",
      "look for  266 in  [255, 103, 163, 158, 296, 35, 104, 108, 15, 197, 252, 227, 299, 61, 88, 319, 178, 154, 184, 116, 146, 56, 193, 141]\n",
      "look for  296 in  [255, 103, 163, 158, 296, 35, 104, 108, 15, 197, 252, 227, 299, 61, 88, 319, 178, 154, 184, 116, 146, 56, 193, 141, 266]\n"
     ]
    }
   ],
   "source": [
    "for i in range(5):\n",
    "    assert 1 <= paradox() <= 365"
   ]
  },
  {
   "cell_type": "markdown",
   "metadata": {},
   "source": [
    "### <span style=\"color:red;\">Short Answer Question</span>"
   ]
  },
  {
   "cell_type": "markdown",
   "metadata": {},
   "source": [
    "Don't forget to complete the short-answer question on the exam page.\n",
    "\n",
    "Double-click on the markdown cell below and enter your answer in this cell."
   ]
  },
  {
   "cell_type": "markdown",
   "metadata": {
    "deletable": false,
    "nbgrader": {
     "cell_type": "markdown",
     "checksum": "6e2e4ada00d4aab30290d44ac6c9a5ef",
     "grade": true,
     "grade_id": "cell-cd72593eb7ea9d6f",
     "locked": false,
     "points": 4,
     "schema_version": 3,
     "solution": true,
     "task": false
    }
   },
   "source": [
    "1- The for loop is executed 5 times<br>\n",
    "2- char is assigned 1<br>\n",
    "3- msg is assigned I30<br>"
   ]
  }
 ],
 "metadata": {
  "kernelspec": {
   "display_name": "Python 3",
   "language": "python",
   "name": "python3"
  },
  "language_info": {
   "codemirror_mode": {
    "name": "ipython",
    "version": 3
   },
   "file_extension": ".py",
   "mimetype": "text/x-python",
   "name": "python",
   "nbconvert_exporter": "python",
   "pygments_lexer": "ipython3",
   "version": "3.7.1"
  }
 },
 "nbformat": 4,
 "nbformat_minor": 2
}
